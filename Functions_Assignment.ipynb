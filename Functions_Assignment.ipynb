{
  "nbformat": 4,
  "nbformat_minor": 0,
  "metadata": {
    "colab": {
      "provenance": []
    },
    "kernelspec": {
      "name": "python3",
      "display_name": "Python 3"
    },
    "language_info": {
      "name": "python"
    }
  },
  "cells": [
    {
      "cell_type": "markdown",
      "source": [
        "# **THEORY QUESTIONS**"
      ],
      "metadata": {
        "id": "woMWKaVS_d3V"
      }
    },
    {
      "cell_type": "markdown",
      "source": [
        "Q1: What is the difference between a function and a method in Python?\n"
      ],
      "metadata": {
        "id": "_ap2DiHGAe-y"
      }
    },
    {
      "cell_type": "markdown",
      "source": [
        "Ans: In Python, methods and functions have similar purposes but differ in important ways. Functions are independent blocks of code that can be called from anywhere, while methods are tied to objects or classes and need an object or class instance to be invoked. Functions promote code reusability, while methods offer behavior specific to objects. Functions are called by name, while methods are accessed using dot notation. Understanding these distinctions is crucial for writing organized, modular code in Python and harnessing the full power of methods and functions in various programming scenarios.\n",
        "\n",
        "example:\n",
        "##### Function - calculates the square of a number\n",
        "\n",
        "def square(x):\n",
        "\n",
        "    return x * x\n",
        "\n",
        "\n",
        "\n",
        "#### Class with a method\n",
        "\n",
        "class Calculator:\n",
        "\n",
        "    def add(self, num1, num2):\n",
        "\n",
        "        return num1 + num2\n",
        "\n",
        "\n",
        "\n",
        "#### Using the function\n",
        "\n",
        "result = square(5)  \n",
        "\n",
        "print(result)  # Output: 25\n",
        "\n",
        "\n",
        "\n",
        "####Creating an object and using the method\n",
        "\n",
        "calc = Calculator()\n",
        "\n",
        "result = calc.add(10, 5)\n",
        "\n",
        "print(result)  # Output: 15"
      ],
      "metadata": {
        "id": "4TbwiAwqAgjn"
      }
    },
    {
      "cell_type": "code",
      "source": [
        "# Function - calculates the square of a number\n",
        "\n",
        "def square(x):\n",
        "\n",
        "    return x * x\n",
        "\n",
        "\n",
        "\n",
        "# Class with a method\n",
        "\n",
        "class Calculator:\n",
        "\n",
        "    def add(self, num1, num2):\n",
        "\n",
        "        return num1 + num2\n",
        "\n",
        "\n",
        "\n",
        "# Using the function\n",
        "\n",
        "result = square(5)\n",
        "\n",
        "print(result)  # Output: 25\n",
        "\n",
        "\n",
        "\n",
        "# Creating an object and using the method\n",
        "\n",
        "calc = Calculator()\n",
        "\n",
        "result = calc.add(10, 5)\n",
        "\n",
        "print(result)  # Output: 15"
      ],
      "metadata": {
        "colab": {
          "base_uri": "https://localhost:8080/"
        },
        "id": "zXGySAOfUIf_",
        "outputId": "8c7707be-faaf-4bbd-bf69-5d0e1fc9f62d"
      },
      "execution_count": 1,
      "outputs": [
        {
          "output_type": "stream",
          "name": "stdout",
          "text": [
            "25\n",
            "15\n"
          ]
        }
      ]
    },
    {
      "cell_type": "markdown",
      "source": [
        "Q2: Explain the concept of function arguments and parameters in Python."
      ],
      "metadata": {
        "id": "bQ2XDkTrAiZU"
      }
    },
    {
      "cell_type": "markdown",
      "source": [
        "Ans: In Python, function parameters are variables that define a function's inputs, while function arguments are the values passed to those parameters when the function is called.\n",
        "\n",
        "Parameters\n",
        "\n",
        "*   Appear in the function definition\n",
        "*   Define the number and type of input a function can accept\n",
        "*   can have default values\n",
        "*   are local to the function\n",
        "\n",
        "\n",
        "\n",
        "\n",
        "Arguments\n",
        "\n",
        "*   Appear in the function call\n",
        "*   Provide values for the parameters\n",
        "*   Can be mutable or immutable\n",
        "*   Can be variables that exist outside the function or literals\n",
        "\n",
        "\n",
        "\n",
        "\n",
        "Examples\n",
        "####In the function\n",
        "\n",
        "    def addition(x, y):\n",
        "  \n",
        "       return x + y,\n",
        "      x and y are parameters.\n",
        "   \n",
        "    If the function is called with addition(2, 3), then 2 and 3 are the arguments.\n",
        "Function arguments and reusability\n",
        "\n",
        "Function arguments allow functions to process different inputs and customize their behavior. This makes functions more versatile and reusable"
      ],
      "metadata": {
        "id": "jMzPH4z6AjVc"
      }
    },
    {
      "cell_type": "markdown",
      "source": [
        "Q3: What are the different ways to define and call a function in Python?"
      ],
      "metadata": {
        "id": "0yoAtb7LAkhO"
      }
    },
    {
      "cell_type": "markdown",
      "source": [
        "Ans: In Python, we define a function using the def keyword followed by the function name, parentheses for arguments, and a colon, while calling a function involves writing the function name with parentheses, optionally passing in arguments based on the function definition.  \n",
        "\n",
        "examples:\n",
        "\n",
        "    def greet():  # Function with no arguments\n",
        "\n",
        "    print(\"Hello, world!\")\n",
        "\n",
        "\n",
        "\n",
        "    greet()  # Calling the function"
      ],
      "metadata": {
        "id": "LmuZq0PwAmcp"
      }
    },
    {
      "cell_type": "markdown",
      "source": [
        "Q4: What is the purpose of the `return` statement in a Python function?"
      ],
      "metadata": {
        "id": "Y1LKhKsnAnIr"
      }
    },
    {
      "cell_type": "markdown",
      "source": [
        "Ans: In python, a \"return\" statement is used within a function to send a calculated value back to the part of the code that called the function, essentially allowing the function to \"output\" a result that can be used in further calculations or displayed on screen; once a return statement is executed, the function immediately ends and the specified value is returned to the caller.\n",
        "\n",
        "Example:\n",
        "\n",
        "    def add_numbers(x, y):\n",
        "\n",
        "    sum = x + y\n",
        "\n",
        "    return sum  \n",
        "\n",
        "\n",
        "\n",
        "    result = add_numbers(5, 3)  \n",
        "\n",
        "    print(result)  # This will print \"8"
      ],
      "metadata": {
        "id": "spk7ky_qAoVO"
      }
    },
    {
      "cell_type": "markdown",
      "source": [
        "Q5: What are iterators in Python and how do they differ from iterables?"
      ],
      "metadata": {
        "id": "ezLTW4ynAozK"
      }
    },
    {
      "cell_type": "markdown",
      "source": [
        "Ans: An iterable can be loosely defined as an object which would generate an iterator when passed to inbuilt method iter(). There are a couple of conditions, for an object to be iterable, the object of the class needs to define two instance method: _len_ and _getitem_. An object which fulfills these conditions when passed to method iter() would generate an iterator.\n",
        "\n",
        "\n",
        "Iterators are defined as an object that counts iteration via an internal state variable. The variable, in this case, is NOT set to zero when the iteration crosses the last item, instead, StopIteration() is raised to indicate the end of the iteration."
      ],
      "metadata": {
        "id": "CgZNghx7ApQ2"
      }
    },
    {
      "cell_type": "markdown",
      "source": [
        "Q6: Explain the concept of generators in Python and how they are defined."
      ],
      "metadata": {
        "id": "yH2YR6qvApoi"
      }
    },
    {
      "cell_type": "markdown",
      "source": [
        "Ans: A generator in Python is a special type of function that generates a sequence of values on demand, one at a time, instead of storing the entire sequence in memory all at once; it uses the yield keyword to pause execution and return a value, allowing the function to resume from where it left off when called again, making it memory-efficient for large data sets.\n",
        "\n",
        "example of generator:\n",
        "\n",
        "    def fibonacci(n):\n",
        "\n",
        "    a, b = 0, 1\n",
        "\n",
        "    for _ in range(n):\n",
        "\n",
        "        yield a\n",
        "\n",
        "        a, b = b, a + b\n",
        "\n",
        "\n",
        "\n",
        "       # Usage\n",
        "\n",
        "     for num in fibonacci(10):\n",
        "\n",
        "            print(num)"
      ],
      "metadata": {
        "id": "IqnK2BByAqB4"
      }
    },
    {
      "cell_type": "markdown",
      "source": [
        "Q7: What are the advantages of using generators over regular functions?"
      ],
      "metadata": {
        "id": "MKEYoTlAAqbm"
      }
    },
    {
      "cell_type": "markdown",
      "source": [
        "Ans: Generators have several advantages over regular functions, including memory efficiency, speed, and the ability to process large amounts of data.\n",
        "\n",
        "*Memory efficiency\n",
        "\n",
        "Generators are more memory efficient than lists, especially when working with\n",
        "\n",
        "*large datasets.\n",
        "\n",
        "They generate values on the fly, so they don't need to store the entire sequence in memory.\n",
        "\n",
        "*Speed\n",
        "\n",
        "Generators can be faster than regular loops, especially when working with large datasets.\n",
        "\n",
        "\n",
        "*Lazy evaluation\n",
        "\n",
        "Generators compute values only when needed, which can improve performance."
      ],
      "metadata": {
        "id": "mZJhU421Aqxb"
      }
    },
    {
      "cell_type": "markdown",
      "source": [
        "Q8: What is a lambda function in Python and when is it typically used?"
      ],
      "metadata": {
        "id": "35jpbeurArG0"
      }
    },
    {
      "cell_type": "markdown",
      "source": [
        "Ans: In Python, a lambda function is a small, anonymous function that's used for short-term tasks. You can use lambda functions to simplify code, streamline tasks, and improve readability.\n",
        "#####When to use\n",
        "* For simple mathematical calculations or basic data transformation\n",
        "\n",
        "* When you need a quick, simple function for a brief period\n",
        "\n",
        "* When you want to use a function once\n",
        "\n",
        "\n",
        " * When you want to pass functions as arguments\n",
        "\n",
        "* When you want to create temporary functions"
      ],
      "metadata": {
        "id": "-da_lQgAArcs"
      }
    },
    {
      "cell_type": "markdown",
      "source": [
        "Q9: Explain the purpose and usage of the `map()` function in Python."
      ],
      "metadata": {
        "id": "Ti5t8KzoArvc"
      }
    },
    {
      "cell_type": "markdown",
      "source": [
        "Ans: In Python, the map() function is used to apply a specified function to each element of an iterable (like a list or tuple), effectively \"mapping\" the function across all items in the iterable and returning a new iterable containing the transformed results, allowing you to perform operations on multiple elements without writing explicit loops; it's a core concept in functional programming style.\n",
        "\n",
        "Return value:\n",
        "Returns an iterator object which can be converted to a list or other sequence type to access the transformed elements.\n",
        "\n",
        "example:\n",
        "\n",
        "    numbers = [1, 2, 3, 4]\n",
        "\n",
        "    squares = map(lambda x: x**2, numbers)  # Square each number in the list\n",
        "\n",
        "    print(list(squares))  # Output: [1, 4, 9, 16]"
      ],
      "metadata": {
        "id": "fRWCZ9mdAsAH"
      }
    },
    {
      "cell_type": "markdown",
      "source": [
        "Q10: What is the difference between `map()`, `reduce()`, and `filter()` functions in Python?"
      ],
      "metadata": {
        "id": "02QhNOdFAsLU"
      }
    },
    {
      "cell_type": "markdown",
      "source": [
        "Ans: n Python, \"map\" applies a function to every element in an iterable, returning a new iterable with the transformed elements, while \"filter\" selects elements from an iterable based on a condition, only keeping those that return True when passed through a function (acting like a filter) - essentially, \"map\" modifies each element, while \"filter\" chooses which elements to keep based on a condition; \"reduce\" combines all elements in an iterable into a single value using a function that accumulates results iteratively.\n",
        "\n",
        "example:\n",
        "\n",
        "    numbers = [1,2,3,4,5]\n",
        "    # Map: Square each number\n",
        "\n",
        "    squared_numbers = list(map(lambda x: x**2, numbers))  \n",
        "\n",
        "    print(squared_numbers)  # Output: [1, 4, 9, 16, 25]\n",
        "\n",
        "\n",
        "\n",
        "    # Filter: Keep only even numbers\n",
        "\n",
        "    even_numbers = list(filter(lambda x: x % 2 == 0, numbers))\n",
        "\n",
        "    print(even_numbers)  # Output: [2, 4]\n",
        "\n",
        "\n",
        "\n",
        "     # Reduce: Calculate the sum of all numbers\n",
        "\n",
        "    from functools import reduce\n",
        "\n",
        "    total_sum = reduce(lambda x, y: x + y, numbers)\n",
        "\n",
        "    print(total_sum)  # Output: 15"
      ],
      "metadata": {
        "id": "jI0jo-d8AsVv"
      }
    },
    {
      "cell_type": "markdown",
      "source": [
        "Q11: Using pen & Paper write the internal mechanism for sum operation using  \n",
        "reduce function on this given\n",
        "list:[47,11,42,13];"
      ],
      "metadata": {
        "id": "DiumUIh5AsvK"
      }
    },
    {
      "cell_type": "markdown",
      "source": [
        "Ans:"
      ],
      "metadata": {
        "id": "0ExjQPGMAs6C"
      }
    },
    {
      "cell_type": "markdown",
      "source": [
        "\n",
        "\n",
        "# **PRACTICAL QUESTIONS**"
      ],
      "metadata": {
        "id": "SvrovtflORSf"
      }
    },
    {
      "cell_type": "markdown",
      "source": [
        "Q1: Write a Python function that takes a list of numbers as input and returns the sum of all even numbers in the list."
      ],
      "metadata": {
        "id": "f5ebzcxXAs-O"
      }
    },
    {
      "cell_type": "code",
      "source": [
        "num = int(input('Enter a number: '))\n",
        "sum = 0\n",
        "i = 0\n",
        "while i <= num:\n",
        "    if i % 2 == 0:\n",
        "        print(i)\n",
        "        sum+=i\n",
        "    i+=1\n",
        "print(f\"Sum of all the even numbers is {sum}\")\n"
      ],
      "metadata": {
        "id": "mLeQEl-JQjeN",
        "colab": {
          "base_uri": "https://localhost:8080/"
        },
        "outputId": "e5a5f2b9-fc98-4140-ca7e-338b20571c19"
      },
      "execution_count": 25,
      "outputs": [
        {
          "output_type": "stream",
          "name": "stdout",
          "text": [
            "Enter a number: 45\n",
            "0\n",
            "2\n",
            "4\n",
            "6\n",
            "8\n",
            "10\n",
            "12\n",
            "14\n",
            "16\n",
            "18\n",
            "20\n",
            "22\n",
            "24\n",
            "26\n",
            "28\n",
            "30\n",
            "32\n",
            "34\n",
            "36\n",
            "38\n",
            "40\n",
            "42\n",
            "44\n",
            "Sum of all the even numbers is 506\n"
          ]
        }
      ]
    },
    {
      "cell_type": "markdown",
      "source": [
        "Q2: Create a Python function that accepts a string and returns the reverse of that string."
      ],
      "metadata": {
        "id": "FnTQlzQhQlHE"
      }
    },
    {
      "cell_type": "code",
      "source": [
        "def my_function(x):\n",
        "  return x[::-1]\n",
        "\n",
        "mytxt = my_function(\"I wonder how this text looks like backwards\")\n",
        "\n",
        "print(mytxt)\n"
      ],
      "metadata": {
        "id": "xTftW1fHRX4s",
        "colab": {
          "base_uri": "https://localhost:8080/"
        },
        "outputId": "21ad8f74-4a49-47b5-cf2c-f48beac7273a"
      },
      "execution_count": 11,
      "outputs": [
        {
          "output_type": "stream",
          "name": "stdout",
          "text": [
            "sdrawkcab ekil skool txet siht woh rednow I\n"
          ]
        }
      ]
    },
    {
      "cell_type": "markdown",
      "source": [
        "Q3: Implement a Python function that takes a list of integers and returns a new list containing the squares of\n",
        "each number."
      ],
      "metadata": {
        "id": "dqi4u1b9RYxQ"
      }
    },
    {
      "cell_type": "code",
      "source": [
        "# Define a function named 'printValues' that generates a list of squares of numbers from 1 to 20\n",
        "def printValues():\n",
        "    # Create an empty list 'l'\n",
        "    l = list()\n",
        "\n",
        "    # Iterate through numbers from 1 to 20 (inclusive)\n",
        "    for i in range(1, 21):\n",
        "        # Calculate the square of 'i' and append it to the list 'l'\n",
        "        l.append(i**2)\n",
        "\n",
        "    # Print the list containing squares of numbers from 1 to 20\n",
        "    print(l)\n",
        "\n",
        "# Call the 'printValues' function to generate and print the list of squares\n",
        "printValues()"
      ],
      "metadata": {
        "id": "E5XSob6DVL5E",
        "colab": {
          "base_uri": "https://localhost:8080/"
        },
        "outputId": "56a3198f-1796-4e07-850b-2a70008df824"
      },
      "execution_count": 12,
      "outputs": [
        {
          "output_type": "stream",
          "name": "stdout",
          "text": [
            "[1, 4, 9, 16, 25, 36, 49, 64, 81, 100, 121, 144, 169, 196, 225, 256, 289, 324, 361, 400]\n"
          ]
        }
      ]
    },
    {
      "cell_type": "markdown",
      "source": [
        "Q4: Write a Python function that checks if a given number is prime or not from 1 to 200."
      ],
      "metadata": {
        "id": "pfiILM7WVMtt"
      }
    },
    {
      "cell_type": "code",
      "source": [
        "def is_prime(n):\n",
        "    if n <= 1:\n",
        "        return False\n",
        "\n",
        "    flag = True  # Assume the number is prime initially\n",
        "\n",
        "    # Check divisibility from 2 to sqrt(n)\n",
        "    for i in range(2, int(n**0.5) + 1):\n",
        "        if n % i == 0:\n",
        "            flag = False  # Set flag to False if divisible\n",
        "            break  # Exit loop once a divisor is found\n",
        "\n",
        "    return flag  # Return True if no divisors found, False otherwise\n",
        "\n",
        "# Example usage\n",
        "num = int(input(\"Enter a number: \"))\n",
        "if is_prime(num):\n",
        "    print(f\"{num} is a prime number.\")\n",
        "else:\n",
        "    print(f\"{num} is not a prime number.\")"
      ],
      "metadata": {
        "id": "WopRsRrXWUjY",
        "colab": {
          "base_uri": "https://localhost:8080/"
        },
        "outputId": "7b1f9d13-2c81-4fc6-95b4-fc047d1e1331"
      },
      "execution_count": 13,
      "outputs": [
        {
          "output_type": "stream",
          "name": "stdout",
          "text": [
            "Enter a number: 87\n",
            "87 is not a prime number.\n"
          ]
        }
      ]
    },
    {
      "cell_type": "markdown",
      "source": [
        "Q5: Create an iterator class in Python that generates the Fibonacci sequence up to a specified number of\n",
        "terms."
      ],
      "metadata": {
        "id": "YQiuTHORWVXL"
      }
    },
    {
      "cell_type": "code",
      "source": [
        "def fibonacci(n):\n",
        "\n",
        "    a, b = 0, 1\n",
        "\n",
        "    for _ in range(n):\n",
        "\n",
        "        yield a\n",
        "\n",
        "        a, b = b, a + b\n",
        "\n",
        "\n",
        "for num in fibonacci(10):\n",
        "\n",
        "    print(num)"
      ],
      "metadata": {
        "id": "BnjhVkiOWvL3",
        "colab": {
          "base_uri": "https://localhost:8080/"
        },
        "outputId": "07b77ce6-4a32-4699-9d76-00bc2b494235"
      },
      "execution_count": 14,
      "outputs": [
        {
          "output_type": "stream",
          "name": "stdout",
          "text": [
            "0\n",
            "1\n",
            "1\n",
            "2\n",
            "3\n",
            "5\n",
            "8\n",
            "13\n",
            "21\n",
            "34\n"
          ]
        }
      ]
    },
    {
      "cell_type": "markdown",
      "source": [
        "Q6: Write a generator function in Python that yields the powers of 2 up to a given exponent."
      ],
      "metadata": {
        "id": "ZE65b-leWwPr"
      }
    },
    {
      "cell_type": "code",
      "source": [
        "def power_generator(base, exponent):\n",
        "    result = 1\n",
        "    for i in range(exponent + 1):\n",
        "        yield result\n",
        "        result *= base\n",
        "\n",
        "# Accept input from the user\n",
        "base = int(input(\"Input the base number: \"))\n",
        "exponent = int(input(\"Input the exponent: \"))\n",
        "\n",
        "# Create the generator object\n",
        "power_gen = power_generator(base, exponent)\n",
        "\n",
        "# Generate and print the powers\n",
        "print(f\"Powers of {base} up to exponent {exponent}:\")\n",
        "for power in power_gen:\n",
        "    print(power)"
      ],
      "metadata": {
        "id": "PvCS2XXfXAgJ",
        "colab": {
          "base_uri": "https://localhost:8080/"
        },
        "outputId": "c79f1998-f145-47f2-a4c9-2354b84afdb7"
      },
      "execution_count": 16,
      "outputs": [
        {
          "output_type": "stream",
          "name": "stdout",
          "text": [
            "Input the base number: 2\n",
            "Input the exponent: 6\n",
            "Powers of 2 up to exponent 6:\n",
            "1\n",
            "2\n",
            "4\n",
            "8\n",
            "16\n",
            "32\n",
            "64\n"
          ]
        }
      ]
    },
    {
      "cell_type": "markdown",
      "source": [
        "Q7:Implement a generator function that reads a file line by line and yields each line as a string."
      ],
      "metadata": {
        "id": "xgUR45CJXBdS"
      }
    },
    {
      "cell_type": "code",
      "source": [
        "L = [\"pw\\n\", \"skills\\n\", \"data science\\n\"]\n",
        "\n",
        "# Writing to file\n",
        "file1 = open('myfile.txt', 'w')\n",
        "file1.writelines(L)\n",
        "file1.close()\n",
        "\n",
        "# Opening file\n",
        "file1 = open('myfile.txt', 'r')\n",
        "count = 0\n",
        "\n",
        "# Using for loop\n",
        "print(\"Using for loop\")\n",
        "for line in file1:\n",
        "    count += 1\n",
        "    print(\"Line{}: {}\".format(count, line.strip()))\n",
        "\n",
        "# Closing files\n",
        "file1.close()"
      ],
      "metadata": {
        "id": "DLdhOBx3XWFC",
        "colab": {
          "base_uri": "https://localhost:8080/"
        },
        "outputId": "fde605cc-3be1-4d83-81c3-2ceb2c11446a"
      },
      "execution_count": 17,
      "outputs": [
        {
          "output_type": "stream",
          "name": "stdout",
          "text": [
            "Using for loop\n",
            "Line1: pw\n",
            "Line2: skills\n",
            "Line3: data science\n"
          ]
        }
      ]
    },
    {
      "cell_type": "markdown",
      "source": [
        "Q8: Use a lambda function in Python to sort a list of tuples based on the second element of each tuple."
      ],
      "metadata": {
        "id": "vVBQxRYvXXKE"
      }
    },
    {
      "cell_type": "code",
      "source": [
        "a = [(1, 3), (4, 1), (2, 2)]\n",
        "\n",
        "# Sort the list based on the second element\n",
        "res = sorted(a, key=lambda x: x[1])\n",
        "\n",
        "print(res)"
      ],
      "metadata": {
        "id": "0p2ZnYhEXn0J",
        "colab": {
          "base_uri": "https://localhost:8080/"
        },
        "outputId": "be3ea04a-aec4-42f7-f540-ca471e9bf623"
      },
      "execution_count": 18,
      "outputs": [
        {
          "output_type": "stream",
          "name": "stdout",
          "text": [
            "[(4, 1), (2, 2), (1, 3)]\n"
          ]
        }
      ]
    },
    {
      "cell_type": "markdown",
      "source": [
        "Q9: Write a Python program that uses `map()` to convert a list of temperatures from Celsius to Fahrenheit.\n"
      ],
      "metadata": {
        "id": "OyCE_ElTXpDF"
      }
    },
    {
      "cell_type": "code",
      "source": [
        "celsius = [0, 20, 37, 100]\n",
        "fahrenheit = map(lambda c: (c * 9/5) + 32, celsius)\n",
        "print(list(fahrenheit))"
      ],
      "metadata": {
        "id": "VsyvxQxlX7cm",
        "colab": {
          "base_uri": "https://localhost:8080/"
        },
        "outputId": "93655060-c944-4c78-f961-54cb69e32cb9"
      },
      "execution_count": 19,
      "outputs": [
        {
          "output_type": "stream",
          "name": "stdout",
          "text": [
            "[32.0, 68.0, 98.6, 212.0]\n"
          ]
        }
      ]
    },
    {
      "cell_type": "markdown",
      "source": [
        "Q10: Create a Python program that uses `filter()` to remove all the vowels from a given string."
      ],
      "metadata": {
        "id": "q0RRCfFaX8gc"
      }
    },
    {
      "cell_type": "code",
      "source": [
        "def remove_vowels(string):\n",
        "    vowels = ['a', 'e', 'i', 'o', 'u', 'A', 'E', 'I', 'O', 'U']\n",
        "    result = \"\"\n",
        "    for char in string:\n",
        "        if char not in vowels:\n",
        "            result += char\n",
        "    return result\n",
        "# Example usage\n",
        "input_string = \"abhishek kumar pandey\"\n",
        "output_string = remove_vowels(input_string)\n",
        "print(output_string)"
      ],
      "metadata": {
        "colab": {
          "base_uri": "https://localhost:8080/"
        },
        "id": "iOV50dABYI9F",
        "outputId": "7eab6732-1ed9-4b30-9c19-f9da6878ab96"
      },
      "execution_count": 21,
      "outputs": [
        {
          "output_type": "stream",
          "name": "stdout",
          "text": [
            "bhshk kmr pndy\n"
          ]
        }
      ]
    },
    {
      "cell_type": "markdown",
      "source": [
        "Q11: Imagine an accounting routine used in a book shop. It works on a list with sublists, which look like this:\n",
        "  \n",
        "#####order  number  * book title & author             * quantity       *price per item\n",
        "\n",
        "   \n",
        " * 34587      * learning python, mark lutz          * 4             * 40.95\n",
        " * 98762      * programming python, mark lutz       * 5             * 56.80\n",
        " * 77226       *head first python, paul barry       * 3             * 32.95\n",
        " * 88112       *infuhrung in python, bernd klein   * 3              *24.99\n",
        "\n",
        "Write a Python program, which returns a list with 2-tuples. Each tuple consists of the order number and the\n",
        "product of the price per item and the quantity. The product should be increased by 10,- € if the value of the\n",
        "order is smaller than 100,00 €.\n",
        "\n",
        "Write a Python program using lambda and map."
      ],
      "metadata": {
        "id": "2-O_1lbgYJwk"
      }
    },
    {
      "cell_type": "code",
      "source": [
        "orders = [\n",
        "    [\"34587\", \"Learning Python, Mark Lutz\", 4, 40.95],\n",
        "    [\"98762\", \"Programming Python, Mark Lutz\", 5, 56.80],\n",
        "    [\"77226\", \"Head First Python, Paul Barry\", 3, 32.95],\n",
        "    [\"88112\", \"Python Cookbook, David Beazley\", 3, 24.99]\n",
        "]\n",
        "\n",
        "result = list(map(lambda x: (x[0], x[2] * x[3] + 10 if x[2] * x[3] < 100 else x[2] * x[3]), orders))\n",
        "\n",
        "print(result)"
      ],
      "metadata": {
        "id": "Krk8rdBTazHw",
        "colab": {
          "base_uri": "https://localhost:8080/"
        },
        "outputId": "a9dcab12-76a5-4520-ad53-f9b2bb06a027"
      },
      "execution_count": 22,
      "outputs": [
        {
          "output_type": "stream",
          "name": "stdout",
          "text": [
            "[('34587', 163.8), ('98762', 284.0), ('77226', 108.85000000000001), ('88112', 84.97)]\n"
          ]
        }
      ]
    }
  ]
}